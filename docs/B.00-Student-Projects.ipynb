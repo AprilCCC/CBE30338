{
 "cells": [
  {
   "cell_type": "markdown",
   "metadata": {
    "nbpages": {
     "level": 0,
     "link": "[](https://jckantor.github.io/CBE30338/B.00-Student-Projects.html)",
     "section": ""
    }
   },
   "source": [
    "<!--NOTEBOOK_HEADER-->\n",
    "*This notebook contains material from [CBE30338](https://jckantor.github.io/CBE30338);\n",
    "content is available [on Github](https://github.com/jckantor/CBE30338.git).*\n"
   ]
  },
  {
   "cell_type": "markdown",
   "metadata": {
    "nbpages": {
     "level": 0,
     "link": "[](https://jckantor.github.io/CBE30338/B.00-Student-Projects.html)",
     "section": ""
    }
   },
   "source": [
    "<!--NAVIGATION-->\n",
    "< [A.3 Animation in Jupyter Notebooks](https://jckantor.github.io/CBE30338/A.03-Animation-in-Jupyter-Notebooks.html) | [Contents](toc.html) | [Tag Index](tag_index.html) | [B.1 Diabetes: Controlling Blood Glucose Concentrations](https://jckantor.github.io/CBE30338/B.01-Diabetes-Controlling-Blood-Glucose-Concentrations.html) ><p><a href=\"https://colab.research.google.com/github/jckantor/CBE30338/blob/master/docs/B.00-Student-Projects.ipynb\"> <img align=\"left\" src=\"https://colab.research.google.com/assets/colab-badge.svg\" alt=\"Open in Colab\" title=\"Open in Google Colaboratory\"></a><p><a href=\"https://jckantor.github.io/CBE30338/B.00-Student-Projects.ipynb\"> <img align=\"left\" src=\"https://img.shields.io/badge/Github-Download-blue.svg\" alt=\"Download\" title=\"Download Notebook\"></a>"
   ]
  },
  {
   "cell_type": "markdown",
   "metadata": {
    "colab_type": "text",
    "id": "5gO8lH70FEhq",
    "nbpages": {
     "level": 0,
     "link": "[](https://jckantor.github.io/CBE30338/B.00-Student-Projects.html)",
     "section": ""
    }
   },
   "source": []
  },
  {
   "cell_type": "code",
   "execution_count": 0,
   "metadata": {
    "colab": {},
    "colab_type": "code",
    "id": "XFvXDYTKE-6p",
    "nbpages": {
     "level": 0,
     "link": "[](https://jckantor.github.io/CBE30338/B.00-Student-Projects.html)",
     "section": ""
    }
   },
   "outputs": [],
   "source": []
  },
  {
   "cell_type": "markdown",
   "metadata": {
    "colab_type": "text",
    "id": "EWTpIUWJFGBc",
    "nbpages": {
     "level": 1,
     "link": "[B.0 Student Projects](https://jckantor.github.io/CBE30338/B.00-Student-Projects.html#B.0-Student-Projects)",
     "section": "B.0 Student Projects"
    }
   },
   "source": [
    "# B.0 Student Projects"
   ]
  },
  {
   "cell_type": "code",
   "execution_count": 0,
   "metadata": {
    "colab": {},
    "colab_type": "code",
    "id": "K2uBQNDJFHdk",
    "nbpages": {
     "level": 1,
     "link": "[B.0 Student Projects](https://jckantor.github.io/CBE30338/B.00-Student-Projects.html#B.0-Student-Projects)",
     "section": "B.0 Student Projects"
    }
   },
   "outputs": [],
   "source": []
  },
  {
   "cell_type": "markdown",
   "metadata": {
    "nbpages": {
     "level": 1,
     "link": "[B.0 Student Projects](https://jckantor.github.io/CBE30338/B.00-Student-Projects.html#B.0-Student-Projects)",
     "section": "B.0 Student Projects"
    }
   },
   "source": [
    "<!--NAVIGATION-->\n",
    "< [A.3 Animation in Jupyter Notebooks](https://jckantor.github.io/CBE30338/A.03-Animation-in-Jupyter-Notebooks.html) | [Contents](toc.html) | [Tag Index](tag_index.html) | [B.1 Diabetes: Controlling Blood Glucose Concentrations](https://jckantor.github.io/CBE30338/B.01-Diabetes-Controlling-Blood-Glucose-Concentrations.html) ><p><a href=\"https://colab.research.google.com/github/jckantor/CBE30338/blob/master/docs/B.00-Student-Projects.ipynb\"> <img align=\"left\" src=\"https://colab.research.google.com/assets/colab-badge.svg\" alt=\"Open in Colab\" title=\"Open in Google Colaboratory\"></a><p><a href=\"https://jckantor.github.io/CBE30338/B.00-Student-Projects.ipynb\"> <img align=\"left\" src=\"https://img.shields.io/badge/Github-Download-blue.svg\" alt=\"Download\" title=\"Download Notebook\"></a>"
   ]
  }
 ],
 "metadata": {
  "colab": {
   "collapsed_sections": [],
   "name": "C.0-Student-Projects.ipynb",
   "provenance": [],
   "version": "0.3.2"
  },
  "kernelspec": {
   "display_name": "Python 3",
   "language": "python",
   "name": "python3"
  },
  "language_info": {
   "codemirror_mode": {
    "name": "ipython",
    "version": 3
   },
   "file_extension": ".py",
   "mimetype": "text/x-python",
   "name": "python",
   "nbconvert_exporter": "python",
   "pygments_lexer": "ipython3",
   "version": "3.7.4"
  }
 },
 "nbformat": 4,
 "nbformat_minor": 1
}
